{
 "cells": [
  {
   "cell_type": "markdown",
   "metadata": {
    "collapsed": false
   },
   "source": [
    "# Python Assignment 2: Python Basics for Big Data\n",
    "\n",
    "For this assignment, enter Python code into code blocks below. I have provided some empty code blocks you can use. Throughout, use comments to explain steps you are doing. No need to go overboard but it is always important in coding to be as descriptive as possible.\n",
    "\n",
    "Most things in this can be solved using methods shown in lecture. However, some cases will require you to search the internet for answers. This is intended because efficiently searching documentation or Stackoverflow is a requirement of modern programing. Also note there will be similar-sounding questions for your practice."
   ]
  },
  {
   "cell_type": "markdown",
   "metadata": {},
   "source": [
    "## Question 1\n",
    "\n",
    "a). **Indentation and Pythonic Code**:\n",
    "   - Create a function named `print_numbers` that prints numbers from 1 to 10, each on a new line. Ensure your code is properly indented and follows Pythonic conventions."
   ]
  },
  {
   "cell_type": "code",
<<<<<<< HEAD
   "execution_count": null,
   "metadata": {},
   "outputs": [],
   "source": [
    "#1 a) Answer"
=======
   "execution_count": 7,
   "metadata": {},
   "outputs": [
    {
     "name": "stdout",
     "output_type": "stream",
     "text": [
      "1\n",
      "2\n",
      "3\n",
      "4\n",
      "5\n",
      "6\n",
      "7\n",
      "8\n",
      "9\n",
      "10\n"
     ]
    }
   ],
   "source": [
    "#1 a) # Answer: \n",
    "def print_numbers(num):\n",
    "    \"\"\"Print the numbers as follows.\"\"\"  # Docstring\n",
    "    for i in range(num):\n",
    "        print(i+1)\n",
    "\n",
    "# Calling the function and print the numbers\n",
    "print_numbers(10)\n"
>>>>>>> e8fdaee4e03772d721f1b806eb6287b33b403337
   ]
  },
  {
   "cell_type": "markdown",
   "metadata": {},
   "source": [
    "b.) **Rules of Functions and Comments**:\n",
    "   - Define a function named `calculate_area` that takes two arguments `length` and `width`, and returns the area of a rectangle. Include a docstring explaining what the function does. See the lecture notes for an example of a docstring.\n"
   ]
  },
  {
   "cell_type": "code",
<<<<<<< HEAD
   "execution_count": null,
   "metadata": {},
   "outputs": [],
   "source": [
    "#1 b) Answer:"
=======
   "execution_count": 8,
   "metadata": {},
   "outputs": [
    {
     "data": {
      "text/plain": [
       "200"
      ]
     },
     "execution_count": 8,
     "metadata": {},
     "output_type": "execute_result"
    }
   ],
   "source": [
    "#1 b) Answer: \n",
    "def calculate_area(length, width):\n",
    "    \"\"\"Calculate the area of a rectangle with an input of length and width\"\"\"  # Docstring\n",
    "    area = length * width\n",
    "    return area\n",
    "\n",
    "# Calling the function and calculate rectangle area\n",
    "calculate_area(10 , 20)"
>>>>>>> e8fdaee4e03772d721f1b806eb6287b33b403337
   ]
  },
  {
   "cell_type": "markdown",
   "metadata": {},
   "source": [
    "c.) **Basic Data Types**:\n",
    "   - Create a variable `is_active` and set it to `True`. Print the type of `is_active` using the `type()` function.\n"
   ]
  },
  {
   "cell_type": "code",
<<<<<<< HEAD
   "execution_count": null,
   "metadata": {},
   "outputs": [],
   "source": [
    "#1 c) Answer:"
=======
   "execution_count": 9,
   "metadata": {},
   "outputs": [
    {
     "name": "stdout",
     "output_type": "stream",
     "text": [
      "<class 'bool'>\n"
     ]
    }
   ],
   "source": [
    "#1 c) Answer: \n",
    "is_active = True\n",
    "print(type(is_active)) # <class 'bool'>"
>>>>>>> e8fdaee4e03772d721f1b806eb6287b33b403337
   ]
  },
  {
   "cell_type": "markdown",
   "metadata": {},
   "source": [
    "\n",
    "d.) **Working with Lists**:\n",
    "   - Create a list named `fruits` containing some fruit names. Use the `append` method to add 'Mango' to the list and print the updated list."
   ]
  },
  {
   "cell_type": "code",
<<<<<<< HEAD
   "execution_count": null,
   "metadata": {},
   "outputs": [],
   "source": [
    "#1 d) Answer:"
=======
   "execution_count": 12,
   "metadata": {},
   "outputs": [
    {
     "name": "stdout",
     "output_type": "stream",
     "text": [
      "['Apple', 'Orange', 'Pear']\n",
      "['Apple', 'Orange', 'Pear', 'Mango']\n"
     ]
    }
   ],
   "source": [
    "#1 d) Answer: \n",
    "fruits = [\"Apple\", \"Orange\", \"Pear\"]\n",
    "print(fruits)\n",
    "fruits.append(\"Mango\")\n",
    "print(fruits)"
>>>>>>> e8fdaee4e03772d721f1b806eb6287b33b403337
   ]
  },
  {
   "cell_type": "markdown",
   "metadata": {},
   "source": [
    "## Question 2:\n",
    "a.) **Naming Conventions**:\n",
    "   - Create a variable following the snake_case naming convention to store the number of days in a week."
   ]
  },
  {
   "cell_type": "code",
   "execution_count": null,
   "metadata": {},
   "outputs": [],
   "source": [
<<<<<<< HEAD
    "#2 a) Answer: "
=======
    "#2 a) Answer: \n",
    "days_in_a_week = 7"
>>>>>>> e8fdaee4e03772d721f1b806eb6287b33b403337
   ]
  },
  {
   "cell_type": "markdown",
   "metadata": {},
   "source": [
    "b.) **Control Flows - Conditionals**:\n",
    "   - Write a simple program that checks if a number is positive, negative, or zero using `if`, `elif`, and `else` statements."
   ]
  },
  {
   "cell_type": "code",
<<<<<<< HEAD
   "execution_count": null,
   "metadata": {},
   "outputs": [],
   "source": [
    "#2 b) Answer:"
=======
   "execution_count": 18,
   "metadata": {},
   "outputs": [
    {
     "name": "stdout",
     "output_type": "stream",
     "text": [
      "10 is positive.\n",
      "The number is zero.\n",
      "-10 is negative.\n"
     ]
    }
   ],
   "source": [
    "#2 b) Answer:\n",
    "def number(num):\n",
    "    if num == 0:\n",
    "        print(\"The number is zero.\")\n",
    "    elif num > 0:\n",
    "        print(str(num) + \" is positive.\")\n",
    "    else:\n",
    "        print(str(num) + \" is negative.\")\n",
    "\n",
    "number(10)\n",
    "number(0)\n",
    "number(-10)\n"
>>>>>>> e8fdaee4e03772d721f1b806eb6287b33b403337
   ]
  },
  {
   "cell_type": "markdown",
   "metadata": {},
   "source": [
    "c.) **Control Flows - Loops**:\n",
    "   - Write a `for` loop to calculate the sum of numbers from 1 to 100.\n"
   ]
  },
  {
   "cell_type": "code",
<<<<<<< HEAD
   "execution_count": null,
   "metadata": {},
   "outputs": [],
   "source": [
    "#2 c) Answer:"
=======
   "execution_count": 20,
   "metadata": {},
   "outputs": [
    {
     "name": "stdout",
     "output_type": "stream",
     "text": [
      "5050\n"
     ]
    }
   ],
   "source": [
    "#2 c) Answer:\n",
    "\n",
    "output = 0\n",
    "\n",
    "for i in range(101): # for python starts at 0\n",
    "    output = output + i\n",
    "    i += 1\n",
    "\n",
    "print(output)"
>>>>>>> e8fdaee4e03772d721f1b806eb6287b33b403337
   ]
  },
  {
   "cell_type": "markdown",
   "metadata": {},
   "source": [
    "\n",
    "d.) **Control Flows - Loop Control Statements**:\n",
    "   - Modify the loop from the previous sub-question to stop the loop if the sum becomes greater than 1000 using a `break` statement.\n"
   ]
  },
  {
   "cell_type": "code",
<<<<<<< HEAD
   "execution_count": null,
   "metadata": {},
   "outputs": [],
   "source": [
    "#2 c) Answer: "
=======
   "execution_count": 21,
   "metadata": {},
   "outputs": [
    {
     "name": "stdout",
     "output_type": "stream",
     "text": [
      "1035\n"
     ]
    }
   ],
   "source": [
    "#2 c) Answer: \n",
    "output = 0\n",
    "\n",
    "for i in range(101): # for python starts at 0\n",
    "    output = output + i\n",
    "    i += 1\n",
    "    if output >= 1000:\n",
    "        break\n",
    "\n",
    "print(output)"
>>>>>>> e8fdaee4e03772d721f1b806eb6287b33b403337
   ]
  },
  {
   "cell_type": "markdown",
   "metadata": {},
   "source": [
    "\n",
    "e.) **Functions - Arguments and Return Values**:\n",
    "   - Create a function named `get_full_name` that takes two arguments `first_name` and `last_name`, and returns the full name."
   ]
  },
  {
   "cell_type": "code",
<<<<<<< HEAD
   "execution_count": null,
   "metadata": {},
   "outputs": [],
   "source": [
    "#2 e) Answer:"
=======
   "execution_count": 23,
   "metadata": {},
   "outputs": [
    {
     "name": "stdout",
     "output_type": "stream",
     "text": [
      "Tianhao\n",
      "Zhou\n",
      "Tianhao Zhou\n"
     ]
    }
   ],
   "source": [
    "#2 e) Answer:\n",
    "def get_full_name(first_name, last_name):\n",
    "    print(first_name)\n",
    "    print(last_name)\n",
    "    print(first_name + \" \" +last_name)\n",
    "\n",
    "get_full_name(\"Tianhao\", \"Zhou\")\n"
>>>>>>> e8fdaee4e03772d721f1b806eb6287b33b403337
   ]
  },
  {
   "cell_type": "markdown",
   "metadata": {},
   "source": [
    "## Question 3\n",
    "**Part A:** Write a python function that calculates the sum of all squared \n",
    "numbers from 1 to x. Illustrate that it works for x = 20.\n",
    "\n",
    "HINT, ** is the exponent operator in python.\n",
    "HINT syntax for a python function is:\n",
    "\n",
    "def function_name(variable_name):\n",
    "    outcome = variable_name + 1\n",
    "    return outcome"
   ]
  },
  {
   "cell_type": "code",
<<<<<<< HEAD
   "execution_count": 10,
   "metadata": {},
   "outputs": [],
   "source": [
    "#3A Answer"
=======
   "execution_count": 26,
   "metadata": {},
   "outputs": [
    {
     "name": "stdout",
     "output_type": "stream",
     "text": [
      "The sum of squared numbers from 1 to 20 is: 2870\n"
     ]
    }
   ],
   "source": [
    "#3A Answer\n",
    "def sum_all_squared(num):\n",
    "    output = 0\n",
    "    for i in range(num+1):\n",
    "        output = output + i**2\n",
    "        i += 1\n",
    "    return output\n",
    "\n",
    "result = sum_all_squared(20)\n",
    "print(\"The sum of squared numbers from 1 to 20 is:\", result)\n"
>>>>>>> e8fdaee4e03772d721f1b806eb6287b33b403337
   ]
  },
  {
   "cell_type": "markdown",
   "metadata": {},
   "source": [
    "The python library named \"os\" is a built-in library for dealing with any file on your operating system.\n",
    "Often, research tasks involve LOTS of files and you need to iterate over them. To show you know how\n",
    "to do this, use the os.listdir function to answer the following questions. Note that you need to \n",
    "write \"import os\" to import the library into your code before you can use it:\n",
    "\n",
    "**Part B:** Print out a list of all the files your class root directory. I don't care how many are actually there (in case you've added some yourself) but show me how."
   ]
  },
  {
   "cell_type": "code",
<<<<<<< HEAD
   "execution_count": 11,
   "metadata": {},
   "outputs": [],
   "source": [
    "#3B Answer"
=======
   "execution_count": 30,
   "metadata": {},
   "outputs": [
    {
     "name": "stdout",
     "output_type": "stream",
     "text": [
      "List of files in the current directory:\n",
      ".git\n",
      ".gitignore\n",
      "APEC8222_F23_syllabus.md\n",
      "big_data_for_economists\n",
      "Course Details\n",
      "README.md\n"
     ]
    }
   ],
   "source": [
    "#3B Answer\n",
    "\n",
    "import os\n",
    "\n",
    "# Get the current working directory\n",
    "current_directory = r\"c:\\Users\\jsnjz\\files\\APEC8222\\Repos\\apec_8222_2023_fall\"\n",
    "\n",
    "# List all files in the current directory\n",
    "files = os.listdir(current_directory)\n",
    "\n",
    "# Print the list of files\n",
    "print(\"List of files in the current directory:\")\n",
    "for file in files:\n",
    "    print(file)\n",
    "\n"
>>>>>>> e8fdaee4e03772d721f1b806eb6287b33b403337
   ]
  },
  {
   "cell_type": "markdown",
   "metadata": {},
   "source": [
    "**Part C:** Using a FOR loop, iterate over the list from above. Using the function len(), count how many letters there are in the filenames. HINT just like in real life, you may need to google the len() function and see how it work on e.g. strings."
   ]
  },
  {
   "cell_type": "code",
<<<<<<< HEAD
   "execution_count": 12,
   "metadata": {},
   "outputs": [],
   "source": [
    "#3C Answer"
=======
   "execution_count": 31,
   "metadata": {},
   "outputs": [
    {
     "name": "stdout",
     "output_type": "stream",
     "text": [
      "File: .git, Number of letters: 4\n",
      "File: .gitignore, Number of letters: 10\n",
      "File: APEC8222_F23_syllabus.md, Number of letters: 24\n",
      "File: big_data_for_economists, Number of letters: 23\n",
      "File: Course Details, Number of letters: 14\n",
      "File: README.md, Number of letters: 9\n"
     ]
    }
   ],
   "source": [
    "#3C Answer\n",
    "\n",
    "import os\n",
    "\n",
    "# Get the current working directory\n",
    "current_directory = r\"c:\\Users\\jsnjz\\files\\APEC8222\\Repos\\apec_8222_2023_fall\"\n",
    "\n",
    "# List all files in the current directory\n",
    "files = os.listdir(current_directory)\n",
    "\n",
    "# Iterate over the list of files and count the letters in each filename\n",
    "for file in files:\n",
    "    letter_count = len(file)\n",
    "    print(f\"File: {file}, Number of letters: {letter_count}\")\n"
>>>>>>> e8fdaee4e03772d721f1b806eb6287b33b403337
   ]
  },
  {
   "cell_type": "markdown",
   "metadata": {},
   "source": [
    "**Part D:** Write a Python program which iterates over the integers from 1 to 50. For multiples of three print \"Fizz\" instead of the number and for the multiples of five print \"Buzz\". For numbers which are multiples of both three and five print \"FizzBuzz\". Hint: look up how to use the modulo operator (which is written as % in python) which would let you test when the remainder of a devision is exactly 0.\n",
    "\n",
    "Side-note, this is a hilariously over-used question that most software engineers get askedon their first interview for a job."
   ]
  },
  {
   "cell_type": "code",
   "execution_count": 13,
   "metadata": {},
<<<<<<< HEAD
   "outputs": [],
   "source": [
    "# 3D Answer"
=======
   "outputs": [
    {
     "name": "stdout",
     "output_type": "stream",
     "text": [
      "1\n",
      "2\n",
      "Fizz\n",
      "4\n",
      "Buzz\n",
      "Fizz\n",
      "7\n",
      "8\n",
      "Fizz\n",
      "Buzz\n",
      "11\n",
      "Fizz\n",
      "13\n",
      "14\n",
      "FizzBuzz\n",
      "16\n",
      "17\n",
      "Fizz\n",
      "19\n",
      "Buzz\n",
      "Fizz\n",
      "22\n",
      "23\n",
      "Fizz\n",
      "Buzz\n",
      "26\n",
      "Fizz\n",
      "28\n",
      "29\n",
      "FizzBuzz\n",
      "31\n",
      "32\n",
      "Fizz\n",
      "34\n",
      "Buzz\n",
      "Fizz\n",
      "37\n",
      "38\n",
      "Fizz\n",
      "Buzz\n",
      "41\n",
      "Fizz\n",
      "43\n",
      "44\n",
      "FizzBuzz\n",
      "46\n",
      "47\n",
      "Fizz\n",
      "49\n",
      "Buzz\n",
      "None\n"
     ]
    }
   ],
   "source": [
    "# 3D Answer\n",
    "def fizzbuzz(num):\n",
    "    for i in range(1 , num+1):\n",
    "        if i % 15 == 0:\n",
    "            print(\"FizzBuzz\")\n",
    "        elif i % 3 == 0:\n",
    "            print(\"Fizz\")\n",
    "        elif i % 5 ==0:\n",
    "            print(\"Buzz\")\n",
    "        else:\n",
    "            print(i)\n",
    "    i += 1\n",
    "\n",
    "result = fizzbuzz(50)\n",
    "print(result)"
>>>>>>> e8fdaee4e03772d721f1b806eb6287b33b403337
   ]
  }
 ],
 "metadata": {
  "anaconda-cloud": {},
  "kernelspec": {
   "display_name": "Python 3.10.6 ('8222env1')",
   "language": "python",
   "name": "python3"
  },
  "language_info": {
   "codemirror_mode": {
    "name": "ipython",
    "version": 3
   },
   "file_extension": ".py",
   "mimetype": "text/x-python",
   "name": "python",
   "nbconvert_exporter": "python",
   "pygments_lexer": "ipython3",
<<<<<<< HEAD
   "version": "3.10.8 | packaged by conda-forge | (main, Nov 22 2022, 08:16:33) [MSC v.1929 64 bit (AMD64)]"
=======
   "version": "3.10.12"
>>>>>>> e8fdaee4e03772d721f1b806eb6287b33b403337
  },
  "vscode": {
   "interpreter": {
    "hash": "0db313e0ad7b6749a6d098fb61fddaded88cbd823278030b75fa0893942c8f77"
   }
  }
 },
 "nbformat": 4,
 "nbformat_minor": 1
}
