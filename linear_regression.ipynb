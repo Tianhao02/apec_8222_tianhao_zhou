{
    "cells": [
        {
            "cell_type": "markdown",
            "metadata": {},
            "source": [
                "This notebook will introduce you to one of the most-used machine learning packages: sklearn. We will start easy with an example very familiar to us all: OLS.\n",
                "\n",
                "As always, start with our packages to import. The new one will be sklearn."
            ]
        },
        {
            "cell_type": "code",
            "execution_count": 27,
            "metadata": {},
            "outputs": [],
            "source": [
                "# Import packages\n",
                "import matplotlib.pyplot as plt\n",
                "import numpy as np\n",
                "from sklearn import datasets, linear_model\n",
                "from sklearn.metrics import mean_squared_error, r2_score"
            ]
        },
        {
            "cell_type": "markdown",
            "metadata": {},
            "source": [
                "In the imports above, we imported sub-packages of the sklearn package. Rather than loading the whole sklearn library (which is huge), line 4 just imports datasets and linear_model.\n",
                "\n",
                "### Load a specific dataset\n",
                "\n",
                "Next, we will use the imported datasets object. It defines a useful function load_diabetes(). This will return a dataset object which contains the data and metadata."
            ]
        },
        {
            "cell_type": "code",
            "execution_count": 28,
            "metadata": {},
            "outputs": [
                {
                    "name": "stdout",
                    "output_type": "stream",
                    "text": [
                        "full_dataset {'data': array([[ 0.03807591,  0.05068012,  0.06169621, ..., -0.00259226,\n",
                        "         0.01990749, -0.01764613],\n",
                        "       [-0.00188202, -0.04464164, -0.05147406, ..., -0.03949338,\n",
                        "        -0.06833155, -0.09220405],\n",
                        "       [ 0.08529891,  0.05068012,  0.04445121, ..., -0.00259226,\n",
                        "         0.00286131, -0.02593034],\n",
                        "       ...,\n",
                        "       [ 0.04170844,  0.05068012, -0.01590626, ..., -0.01107952,\n",
                        "        -0.04688253,  0.01549073],\n",
                        "       [-0.04547248, -0.04464164,  0.03906215, ...,  0.02655962,\n",
                        "         0.04452873, -0.02593034],\n",
                        "       [-0.04547248, -0.04464164, -0.0730303 , ..., -0.03949338,\n",
                        "        -0.00422151,  0.00306441]]), 'target': array([151.,  75., 141., 206., 135.,  97., 138.,  63., 110., 310., 101.,\n",
                        "        69., 179., 185., 118., 171., 166., 144.,  97., 168.,  68.,  49.,\n",
                        "        68., 245., 184., 202., 137.,  85., 131., 283., 129.,  59., 341.,\n",
                        "        87.,  65., 102., 265., 276., 252.,  90., 100.,  55.,  61.,  92.,\n",
                        "       259.,  53., 190., 142.,  75., 142., 155., 225.,  59., 104., 182.,\n",
                        "       128.,  52.,  37., 170., 170.,  61., 144.,  52., 128.,  71., 163.,\n",
                        "       150.,  97., 160., 178.,  48., 270., 202., 111.,  85.,  42., 170.,\n",
                        "       200., 252., 113., 143.,  51.,  52., 210.,  65., 141.,  55., 134.,\n",
                        "        42., 111.,  98., 164.,  48.,  96.,  90., 162., 150., 279.,  92.,\n",
                        "        83., 128., 102., 302., 198.,  95.,  53., 134., 144., 232.,  81.,\n",
                        "       104.,  59., 246., 297., 258., 229., 275., 281., 179., 200., 200.,\n",
                        "       173., 180.,  84., 121., 161.,  99., 109., 115., 268., 274., 158.,\n",
                        "       107.,  83., 103., 272.,  85., 280., 336., 281., 118., 317., 235.,\n",
                        "        60., 174., 259., 178., 128.,  96., 126., 288.,  88., 292.,  71.,\n",
                        "       197., 186.,  25.,  84.,  96., 195.,  53., 217., 172., 131., 214.,\n",
                        "        59.,  70., 220., 268., 152.,  47.,  74., 295., 101., 151., 127.,\n",
                        "       237., 225.,  81., 151., 107.,  64., 138., 185., 265., 101., 137.,\n",
                        "       143., 141.,  79., 292., 178.,  91., 116.,  86., 122.,  72., 129.,\n",
                        "       142.,  90., 158.,  39., 196., 222., 277.,  99., 196., 202., 155.,\n",
                        "        77., 191.,  70.,  73.,  49.,  65., 263., 248., 296., 214., 185.,\n",
                        "        78.,  93., 252., 150.,  77., 208.,  77., 108., 160.,  53., 220.,\n",
                        "       154., 259.,  90., 246., 124.,  67.,  72., 257., 262., 275., 177.,\n",
                        "        71.,  47., 187., 125.,  78.,  51., 258., 215., 303., 243.,  91.,\n",
                        "       150., 310., 153., 346.,  63.,  89.,  50.,  39., 103., 308., 116.,\n",
                        "       145.,  74.,  45., 115., 264.,  87., 202., 127., 182., 241.,  66.,\n",
                        "        94., 283.,  64., 102., 200., 265.,  94., 230., 181., 156., 233.,\n",
                        "        60., 219.,  80.,  68., 332., 248.,  84., 200.,  55.,  85.,  89.,\n",
                        "        31., 129.,  83., 275.,  65., 198., 236., 253., 124.,  44., 172.,\n",
                        "       114., 142., 109., 180., 144., 163., 147.,  97., 220., 190., 109.,\n",
                        "       191., 122., 230., 242., 248., 249., 192., 131., 237.,  78., 135.,\n",
                        "       244., 199., 270., 164.,  72.,  96., 306.,  91., 214.,  95., 216.,\n",
                        "       263., 178., 113., 200., 139., 139.,  88., 148.,  88., 243.,  71.,\n",
                        "        77., 109., 272.,  60.,  54., 221.,  90., 311., 281., 182., 321.,\n",
                        "        58., 262., 206., 233., 242., 123., 167.,  63., 197.,  71., 168.,\n",
                        "       140., 217., 121., 235., 245.,  40.,  52., 104., 132.,  88.,  69.,\n",
                        "       219.,  72., 201., 110.,  51., 277.,  63., 118.,  69., 273., 258.,\n",
                        "        43., 198., 242., 232., 175.,  93., 168., 275., 293., 281.,  72.,\n",
                        "       140., 189., 181., 209., 136., 261., 113., 131., 174., 257.,  55.,\n",
                        "        84.,  42., 146., 212., 233.,  91., 111., 152., 120.,  67., 310.,\n",
                        "        94., 183.,  66., 173.,  72.,  49.,  64.,  48., 178., 104., 132.,\n",
                        "       220.,  57.]), 'frame': None, 'DESCR': '.. _diabetes_dataset:\\n\\nDiabetes dataset\\n----------------\\n\\nTen baseline variables, age, sex, body mass index, average blood\\npressure, and six blood serum measurements were obtained for each of n =\\n442 diabetes patients, as well as the response of interest, a\\nquantitative measure of disease progression one year after baseline.\\n\\n**Data Set Characteristics:**\\n\\n  :Number of Instances: 442\\n\\n  :Number of Attributes: First 10 columns are numeric predictive values\\n\\n  :Target: Column 11 is a quantitative measure of disease progression one year after baseline\\n\\n  :Attribute Information:\\n      - age     age in years\\n      - sex\\n      - bmi     body mass index\\n      - bp      average blood pressure\\n      - s1      tc, total serum cholesterol\\n      - s2      ldl, low-density lipoproteins\\n      - s3      hdl, high-density lipoproteins\\n      - s4      tch, total cholesterol / HDL\\n      - s5      ltg, possibly log of serum triglycerides level\\n      - s6      glu, blood sugar level\\n\\nNote: Each of these 10 feature variables have been mean centered and scaled by the standard deviation times the square root of `n_samples` (i.e. the sum of squares of each column totals 1).\\n\\nSource URL:\\nhttps://www4.stat.ncsu.edu/~boos/var.select/diabetes.html\\n\\nFor more information see:\\nBradley Efron, Trevor Hastie, Iain Johnstone and Robert Tibshirani (2004) \"Least Angle Regression,\" Annals of Statistics (with discussion), 407-499.\\n(https://web.stanford.edu/~hastie/Papers/LARS/LeastAngle_2002.pdf)\\n', 'feature_names': ['age', 'sex', 'bmi', 'bp', 's1', 's2', 's3', 's4', 's5', 's6'], 'data_filename': 'diabetes_data_raw.csv.gz', 'target_filename': 'diabetes_target.csv.gz', 'data_module': 'sklearn.datasets.data'}\n"
                    ]
                }
            ],
            "source": [
                "#| output: false\n",
                "\n",
                "# Here we will load the diabetes dataset, which is a built-in dataset from sklearn.\n",
                "full_dataset = datasets.load_diabetes()\n",
                "print('full_dataset', full_dataset)"
            ]
        },
        {
            "cell_type": "markdown",
            "metadata": {},
            "source": [
                "### Inspect the dataset object to learn about it\n",
                "\n",
                "It's overwhelming and hard to read what is printed out, but let's dig into this notation because it's frequently used and will help us understand different Python datatypes.\n",
                "\n",
                "First, notice that the object starts with {, which means we can treat it like a python dicitonary. Dictionaries are standard ways of expressing key-value pairs. The standard notation for a dictionary is {key1: value1, key2: value2}\n",
                "\n",
                "Below, we will use a method from the full_dataset object that returns just the keys. This should be easier to parse."
            ]
        },
        {
            "cell_type": "code",
            "execution_count": 29,
            "metadata": {},
            "outputs": [
                {
                    "name": "stdout",
                    "output_type": "stream",
                    "text": [
                        "dictionary keys: dict_keys(['data', 'target', 'frame', 'DESCR', 'feature_names', 'data_filename', 'target_filename', 'data_module'])\n"
                    ]
                }
            ],
            "source": [
                "print('dictionary keys:', full_dataset.keys())"
            ]
        },
        {
            "cell_type": "markdown",
            "metadata": {},
            "source": [
                "If we want, we can access just one entry in the dictionary using the key. A useful one is the key DESCR.\n",
                "\n",
                "Print that out using the dictionary \\[\\] notation."
            ]
        },
        {
            "cell_type": "code",
            "execution_count": 30,
            "metadata": {},
            "outputs": [
                {
                    "name": "stdout",
                    "output_type": "stream",
                    "text": [
                        ".. _diabetes_dataset:\n",
                        "\n",
                        "Diabetes dataset\n",
                        "----------------\n",
                        "\n",
                        "Ten baseline variables, age, sex, body mass index, average blood\n",
                        "pressure, and six blood serum measurements were obtained for each of n =\n",
                        "442 diabetes patients, as well as the response of interest, a\n",
                        "quantitative measure of disease progression one year after baseline.\n",
                        "\n",
                        "**Data Set Characteristics:**\n",
                        "\n",
                        "  :Number of Instances: 442\n",
                        "\n",
                        "  :Number of Attributes: First 10 columns are numeric predictive values\n",
                        "\n",
                        "  :Target: Column 11 is a quantitative measure of disease progression one year after baseline\n",
                        "\n",
                        "  :Attribute Information:\n",
                        "      - age     age in years\n",
                        "      - sex\n",
                        "      - bmi     body mass index\n",
                        "      - bp      average blood pressure\n",
                        "      - s1      tc, total serum cholesterol\n",
                        "      - s2      ldl, low-density lipoproteins\n",
                        "      - s3      hdl, high-density lipoproteins\n",
                        "      - s4      tch, total cholesterol / HDL\n",
                        "      - s5      ltg, possibly log of serum triglycerides level\n",
                        "      - s6      glu, blood sugar level\n",
                        "\n",
                        "Note: Each of these 10 feature variables have been mean centered and scaled by the standard deviation times the square root of `n_samples` (i.e. the sum of squares of each column totals 1).\n",
                        "\n",
                        "Source URL:\n",
                        "https://www4.stat.ncsu.edu/~boos/var.select/diabetes.html\n",
                        "\n",
                        "For more information see:\n",
                        "Bradley Efron, Trevor Hastie, Iain Johnstone and Robert Tibshirani (2004) \"Least Angle Regression,\" Annals of Statistics (with discussion), 407-499.\n",
                        "(https://web.stanford.edu/~hastie/Papers/LARS/LeastAngle_2002.pdf)\n",
                        "\n"
                    ]
                }
            ],
            "source": [
                "print(full_dataset['DESCR'])"
            ]
        },
        {
            "cell_type": "markdown",
            "metadata": {},
            "source": [
                "### Access the data array\n",
                "\n",
                "Use the `'data'` key could also extract the data and assign it to a data_array variable for inspection. Let's also print out the `type` of the object to see what the data format is."
            ]
        },
        {
            "cell_type": "code",
            "execution_count": 31,
            "metadata": {},
            "outputs": [
                {
                    "name": "stdout",
                    "output_type": "stream",
                    "text": [
                        "data_array [[ 0.03807591  0.05068012  0.06169621 ... -0.00259226  0.01990749\n",
                        "  -0.01764613]\n",
                        " [-0.00188202 -0.04464164 -0.05147406 ... -0.03949338 -0.06833155\n",
                        "  -0.09220405]\n",
                        " [ 0.08529891  0.05068012  0.04445121 ... -0.00259226  0.00286131\n",
                        "  -0.02593034]\n",
                        " ...\n",
                        " [ 0.04170844  0.05068012 -0.01590626 ... -0.01107952 -0.04688253\n",
                        "   0.01549073]\n",
                        " [-0.04547248 -0.04464164  0.03906215 ...  0.02655962  0.04452873\n",
                        "  -0.02593034]\n",
                        " [-0.04547248 -0.04464164 -0.0730303  ... -0.03949338 -0.00422151\n",
                        "   0.00306441]]\n",
                        "<class 'numpy.ndarray'>\n"
                    ]
                }
            ],
            "source": [
                "data_array = full_dataset['data']\n",
                "print('data_array', data_array)\n",
                "print(type(data_array))"
            ]
        },
        {
            "cell_type": "markdown",
            "metadata": {},
            "source": [
                "It's a numpy array! That means we can use any of the numpy array functions on it.\n",
                "\n",
                "## Exercise 1:\n",
                "\n",
                "Print out the mean BMI in the dataset, the sum BMI, and the sum of the squared BMI values. Explain why the sum of the squared BMI is what it is. To do this, you will need to access the right parts of the data array and slice out the right column.\n",
                "\n",
                "HINT: You will need to read the DESCR to understand which column the BMI is stored in.\n",
                "\n",
                "HINT 2: To create a new variable with just the desired column of the array, you can use Array slicing notation like a = data_array\\[:, n\\] where the : means you want ALL rows, and the n means you want just column n.\n",
                "\n",
                "HINT 3: You may want to use data_array.sum(), data_array.mean(), and the \\*\\* exponent operator."
            ]
        },
        {
            "cell_type": "code",
            "execution_count": 13,
            "metadata": {},
            "outputs": [
                {
                    "name": "stdout",
                    "output_type": "stream",
                    "text": [
                        "Sum:  -2.2455642172282577e-16\n",
                        "Mean:  -2.2455642172282577e-16\n",
                        "Sum of squared:  0.0022624434389140265\n"
                    ]
                }
            ],
            "source": [
                "bmi = data_array[:, 2]\n",
                "\n",
                "bmi_squared = bmi ** 2\n",
                "\n",
                "print('Sum: ', bmi.mean())\n",
                "print('Mean: ', bmi.mean())\n",
                "print('Sum of squared: ', bmi_squared.mean())"
            ]
        },
        {
            "cell_type": "code",
            "execution_count": 32,
            "metadata": {},
            "outputs": [],
            "source": [
                "# For conveinence, sklearn also just has an option to get the key parts for the regression ready to use.\n",
                "diabetes_X, diabetes_y = datasets.load_diabetes(return_X_y=True)"
            ]
        },
        {
            "cell_type": "code",
            "execution_count": 33,
            "metadata": {},
            "outputs": [
                {
                    "name": "stdout",
                    "output_type": "stream",
                    "text": [
                        "diabetes_X (442, 10)\n"
                    ]
                }
            ],
            "source": [
                "# Look at diabetes_X and notice there are lots of independent variables. Rather than printing the whole\n",
                "# Array, which would be messy, just look at the .shape attribute.l\n",
                "# print('diabetes_X', diabetes_X)\n",
                "print('diabetes_X', diabetes_X.shape)"
            ]
        },
        {
            "cell_type": "markdown",
            "metadata": {},
            "source": [
                "For now, we're just going to use a single variable (a single column) for simplicity. The following line extracts just the second column from the array. The colon was necessary because we access arrays using the ROW, COLUMN notation, so we sliced out all ROWS (the colon indicates all) and the second COLUMN."
            ]
        },
        {
            "cell_type": "code",
            "execution_count": 34,
            "metadata": {},
            "outputs": [
                {
                    "name": "stdout",
                    "output_type": "stream",
                    "text": [
                        "diabetes_X (442,)\n",
                        "diabetes_X (442, 1)\n"
                    ]
                }
            ],
            "source": [
                "diabetes_X = diabetes_X[:, 2]\n",
                "# diabetes_X = np.array([diabetes_X])\n",
                "# diabetes_X = diabetes_X[:, np.newaxis, 2]\n",
                "# print('diabetes_X', diabetes_X)\n",
                "print('diabetes_X', diabetes_X.shape)\n",
                "\n",
                "# diabetes_X = diabetes_X.reshape((:, 1))\n",
                "diabetes_X = diabetes_X.reshape((diabetes_X.shape[0], 1))\n",
                "\n",
                "# print('diabetes_X', diabetes_X)\n",
                "print('diabetes_X', diabetes_X.shape)"
            ]
        },
        {
            "cell_type": "markdown",
            "metadata": {},
            "source": [
                "### Split into training and testing arrays (the manual way)\n",
                "\n",
                "Next we are going to do a very rudimentary split of the data into training and testing sets using array slice notation. The following lines assigns the last all but the last 20 lines to the TRAIN set and the remaining 20 to the test set."
            ]
        },
        {
            "cell_type": "code",
            "execution_count": 35,
            "metadata": {},
            "outputs": [],
            "source": [
                "diabetes_X_train = diabetes_X[:-20]\n",
                "diabetes_X_test = diabetes_X[-20:]\n",
                "diabetes_y_train = diabetes_y[:-20]\n",
                "diabetes_y_test = diabetes_y[-20:]"
            ]
        },
        {
            "cell_type": "markdown",
            "metadata": {},
            "source": [
                "**Create an empty LinearRegression object.**\n",
                "\n",
                "In the lines below, we will follow a relatively standardized process for running a model:\n",
                "\n",
                "1.  Create the model object.\n",
                "2.  Fit the model.\n",
                "3.  Predict with the model\n",
                "\n",
                "The basic notation for sklearn below first creates a regression model object using the `linear_model` that we imported above. This model is \"empty\" in the sense that it has no coefficients identified. Just like othertimes we've encountered objects (like numpy array objects), this object has many functions (called methods) and attributes which can be accessed by the dot operator."
            ]
        },
        {
            "cell_type": "code",
            "execution_count": 36,
            "metadata": {},
            "outputs": [
                {
                    "name": "stdout",
                    "output_type": "stream",
                    "text": [
                        "regression_object LinearRegression()\n"
                    ]
                }
            ],
            "source": [
                "regression_object = linear_model.LinearRegression()\n",
                "print('regression_object', regression_object)"
            ]
        },
        {
            "cell_type": "markdown",
            "metadata": {},
            "source": [
                "#### Use the fit method\n",
                "\n",
                "Use the fit method from our regression object. It takes two inputs, the independent variables (X) and dependent variables (y).\n",
                "\n",
                "Below, we will ONLY use the training subset of the data we created above."
            ]
        },
        {
            "cell_type": "code",
            "execution_count": 37,
            "metadata": {},
            "outputs": [
                {
                    "name": "stdout",
                    "output_type": "stream",
                    "text": [
                        "LinearRegression()\n"
                    ]
                }
            ],
            "source": [
                "regression_object.fit(diabetes_X_train, diabetes_y_train)\n",
                "print(regression_object)"
            ]
        },
        {
            "cell_type": "markdown",
            "metadata": {},
            "source": [
                "#### Use the fitted model to predict values\n",
                "\n",
                "Now the regression_object is \"trained,\" which means we can also call it's predict() method which will take some other observations and (in the case of OLS), multiple the new observations against our trained coefficients to make a prediciton.\n",
                "\n",
                "The predict method returned an array of numerical predictions, which we will look at."
            ]
        },
        {
            "cell_type": "code",
            "execution_count": 38,
            "metadata": {},
            "outputs": [
                {
                    "name": "stdout",
                    "output_type": "stream",
                    "text": [
                        "[225.9732401  115.74763374 163.27610621 114.73638965 120.80385422\n",
                        " 158.21988574 236.08568105 121.81509832  99.56772822 123.83758651\n",
                        " 204.73711411  96.53399594 154.17490936 130.91629517  83.3878227\n",
                        " 171.36605897 137.99500384 137.99500384 189.56845268  84.3990668 ]\n"
                    ]
                }
            ],
            "source": [
                "diabetes_y_pred = regression_object.predict(diabetes_X_test)\n",
                "print(diabetes_y_pred)"
            ]
        },
        {
            "cell_type": "markdown",
            "metadata": {},
            "source": [
                "#### Look at the coefficients\n",
                "\n",
                "More interesting might be to look at the coefficients. Once the model has been fit, it has a new attribute .coef\\_ which stores an array of coefficients. In this case it will only be an array of length 1 because we just have one input."
            ]
        },
        {
            "cell_type": "code",
            "execution_count": 39,
            "metadata": {},
            "outputs": [
                {
                    "name": "stdout",
                    "output_type": "stream",
                    "text": [
                        "Coefficients: \n",
                        " [938.23786125]\n"
                    ]
                }
            ],
            "source": [
                "print('Coefficients: \\n', regression_object.coef_)"
            ]
        },
        {
            "cell_type": "markdown",
            "metadata": {},
            "source": [
                "You might be wondering why we are looking at the coefficients as a raw array rather than at a nicely formatted regression table. The reason is in cross-validation approaches, these coefficients might just be one step towards the final model performance check on unseen data.\n",
                "\n",
                "#### Evaluating the fit\n",
                "\n",
                "We can use sklearn's built in evaluation functions, such as for the mean squared error or other metrics."
            ]
        },
        {
            "cell_type": "code",
            "execution_count": 40,
            "metadata": {},
            "outputs": [
                {
                    "name": "stdout",
                    "output_type": "stream",
                    "text": [
                        "Mean squared error on the TEST data: 2548.07239872597\n"
                    ]
                }
            ],
            "source": [
                "mse = mean_squared_error(diabetes_y_test, diabetes_y_pred)\n",
                "print('Mean squared error on the TEST data:',  mse)"
            ]
        },
        {
            "cell_type": "code",
            "execution_count": 41,
            "metadata": {},
            "outputs": [
                {
                    "name": "stdout",
                    "output_type": "stream",
                    "text": [
                        "r2 calculated on TEST data:  0.47257544798227147\n"
                    ]
                }
            ],
            "source": [
                "# Or perhaps we want the r2 for the second independent variable (which is the only one we used)\n",
                "r2_score_value = r2_score(diabetes_y_test, diabetes_y_pred)\n",
                "print('r2 calculated on TEST data: ', r2_score_value)"
            ]
        },
        {
            "cell_type": "code",
            "execution_count": 42,
            "metadata": {},
            "outputs": [
                {
                    "data": {
                        "image/png": "[encoded data removed]",
                        "text/plain": [
                            "<Figure size 640x480 with 1 Axes>"
                        ]
                    },
                    "metadata": {},
                    "output_type": "display_data"
                }
            ],
            "source": [
                "# Finally, to prove to ourselves that we know what we are doing, let's plot this.\n",
                "plt.scatter(diabetes_X_test, diabetes_y_test,  color='black')\n",
                "plt.plot(diabetes_X_test, diabetes_y_pred, color='blue', linewidth=3)\n",
                "\n",
                "plt.show()"
            ]
        },
        {
            "cell_type": "markdown",
            "metadata": {},
            "source": [
                "## Exercise 2.1: Machine Learning OLS Mashup.\n",
                "\n",
                "Use loops to find which TWO variables best describe the data, as measured by R-squared. This is a hilariously brute-force approach to OLS model selection, but it is similar in some senses to Machine Learning and will be relevant to the cross-validation approaches we discuss next."
            ]
        },
        {
            "cell_type": "code",
            "execution_count": 44,
            "metadata": {},
            "outputs": [
                {
                    "name": "stdout",
                    "output_type": "stream",
                    "text": [
                        "best_option [0, 0, 0.585085427447195]\n"
                    ]
                }
            ],
            "source": [
                "# Exercise 2.1 workspace and starter code\n",
                "\n",
                "\n",
                "full_dataset = datasets.load_diabetes() # Load the full dataset\n",
                "diabetes_X, diabetes_y = datasets.load_diabetes(return_X_y=True) # Get just the data arrays\n",
                "\n",
                "# Split into training and testing\n",
                "diabetes_X_train = diabetes_X[:-20]\n",
                "diabetes_X_test = diabetes_X[-20:]\n",
                "diabetes_y_train = diabetes_y[:-20]\n",
                "diabetes_y_test = diabetes_y[-20:]\n",
                "\n",
                "highest_score = 0\n",
                "for i in range(len(full_dataset['feature_names'])):\n",
                "    for j in range(len(full_dataset['feature_names'])):\n",
                "        \n",
                "        diabetes_current_X_train = diabetes_X_train[:, [i, j]]\n",
                "        diabetes_current_X_test = diabetes_X_test[:, [i, j]]\n",
                "\n",
                "        regression_object.fit(diabetes_X_train, diabetes_y_train)\n",
                "        diabetes_y_pred = regression_object.predict(diabetes_X_test)\n",
                "        mse = mean_squared_error(diabetes_y_test, diabetes_y_pred)\n",
                "        r2_score_value = r2_score(diabetes_y_test, diabetes_y_pred)\n",
                "\n",
                "        if r2_score_value > highest_score:\n",
                "            highest_score = r2_score_value\n",
                "            best_option = [i, j, r2_score_value]\n",
                "        \n",
                "print('best_option', best_option)\n"
            ]
        },
        {
            "cell_type": "markdown",
            "metadata": {},
            "source": [
                "## Just for completeness, let's look at this the way an econometritian would\n",
                "\n",
                "Sklearn doesn't report summary statistics in the classic, econometric sense because it focuses on the train, test paradigm, which is not equivilent to a model performance report (which in the classic case is only reporting performance of the TRAINING data).\n",
                "\n",
                "Nonetheless, Here's how I do it, using an alternative, more econometrics-focused package. You will need to conda install statsmodel if you want to uncomment this line and have it work. Note that because we're not splitting our data into training and testing, the r-squareds are not really comparable."
            ]
        },
        {
            "cell_type": "code",
            "execution_count": 26,
            "metadata": {},
            "outputs": [
                {
                    "name": "stdout",
                    "output_type": "stream",
                    "text": [
                        "                            OLS Regression Results                            \n",
                        "==============================================================================\n",
                        "Dep. Variable:                      y   R-squared:                       0.518\n",
                        "Model:                            OLS   Adj. R-squared:                  0.507\n",
                        "Method:                 Least Squares   F-statistic:                     46.27\n",
                        "Date:                Thu, 16 Nov 2023   Prob (F-statistic):           3.83e-62\n",
                        "Time:                        12:53:41   Log-Likelihood:                -2386.0\n",
                        "No. Observations:                 442   AIC:                             4794.\n",
                        "Df Residuals:                     431   BIC:                             4839.\n",
                        "Df Model:                          10                                         \n",
                        "Covariance Type:            nonrobust                                         \n",
                        "==============================================================================\n",
                        "                 coef    std err          t      P>|t|      [0.025      0.975]\n",
                        "------------------------------------------------------------------------------\n",
                        "const        152.1335      2.576     59.061      0.000     147.071     157.196\n",
                        "x1           -10.0099     59.749     -0.168      0.867    -127.446     107.426\n",
                        "x2          -239.8156     61.222     -3.917      0.000    -360.147    -119.484\n",
                        "x3           519.8459     66.533      7.813      0.000     389.076     650.616\n",
                        "x4           324.3846     65.422      4.958      0.000     195.799     452.970\n",
                        "x5          -792.1756    416.680     -1.901      0.058   -1611.153      26.802\n",
                        "x6           476.7390    339.030      1.406      0.160    -189.620    1143.098\n",
                        "x7           101.0433    212.531      0.475      0.635    -316.684     518.770\n",
                        "x8           177.0632    161.476      1.097      0.273    -140.315     494.441\n",
                        "x9           751.2737    171.900      4.370      0.000     413.407    1089.140\n",
                        "x10           67.6267     65.984      1.025      0.306     -62.064     197.318\n",
                        "==============================================================================\n",
                        "Omnibus:                        1.506   Durbin-Watson:                   2.029\n",
                        "Prob(Omnibus):                  0.471   Jarque-Bera (JB):                1.404\n",
                        "Skew:                           0.017   Prob(JB):                        0.496\n",
                        "Kurtosis:                       2.726   Cond. No.                         227.\n",
                        "==============================================================================\n",
                        "\n",
                        "Notes:\n",
                        "[1] Standard Errors assume that the covariance matrix of the errors is correctly specified.\n"
                    ]
                }
            ],
            "source": [
                "import statsmodels\n",
                "from statsmodels.api import OLS\n",
                "\n",
                "data_with_constant = statsmodels.api.add_constant(full_dataset.data)\n",
                "result = OLS(full_dataset.target, data_with_constant).fit().summary()\n",
                "print(result)"
            ]
        }
    ],
    "metadata": [
        {
            "kernelspec": {
                "display_name": "Python 3 (ipykernel)",
                "language": "python",
                "name": "python3"
            }
        }
    ],
    "nbformat": 4,
    "nbformat_minor": 4
}
