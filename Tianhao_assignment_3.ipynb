{
    "cells": [
        {
            "cell_type": "markdown",
            "metadata": {},
            "source": [
                "# Assignment 03: Rasters and Tables\n",
                "\n",
                "For this assignment, you will be using Numpy, GDAL, and Pandas. Most of these questions  can be solved using methods shown in lecture. However, some cases will require you to search the internet for answers. This is intended because efficiently searching documentation or Stackoverflow is a requirement of modern programing. This assignment also requires you to obtain data (I will tell you where) and organize it correctly so that you can access is via relative paths (do not use absolute paths anywhere in this assignment).\n",
                "\n",
                "To turn this in, create a PDF of your finished Jupyter notebook using Quarto (we will discuss this on Tuesday) and upload it to Canvas.\n",
                "\n",
                "\n",
                "## Question 1\n",
                "\n",
                "For this question, you will be using numpy to manipulate arrays in a way that works well for big data and will be using spatial tools to assess land-use change. Specifically, you will use data from a global, 300m resolution land-use, land-cover (LULC) map produced by ESACCI. They provide a wonderful time series of data from 1992-2019. If you want more information, check out their web viewer at https://maps.elie.ucl.ac.be/CCI/viewer/. Here you can view the data but also learn more about the classification regressions that uses time-series spectral data patterns to classify grid-cells into different types. I have extracted lulc maps for the country of Rwanda, which you will find in this assignment's data folder.\n",
                "\n",
                "### Part a. \n",
                "\n",
                "Using the gdal package and the gdal.Open() function, open up the land-use, land-cover map for Rwanda in 2000. \n",
                "\n",
                "In this file, there is only 1 band in this file, so you can also access it with the GetRasterBand(1) function. Without reading the whole array, show how you can determine how many total grid-cells there are in this country."
            ]
        },
        {
            "cell_type": "code",
            "execution_count": null,
            "metadata": {},
            "outputs": [],
            "source": [
                "# 1A Answer\n",
                "\n",
                "from osgeo import gdal\n",
                "import numpy as np\n",
                "import os, random\n",
                "import matplotlib.pyplot as plt\n",
                "\n",
                "lulc_filename = 'rwanda_lulc_2000.tif'\n",
                "\n",
                "# the ../ notation means go up one level relative to your current working directory. This gets us outside of the course\n",
                "# repository and into our Data directory\n",
                "data_directory = '../data' \n",
                "\n",
                "# Join them together (this will work across operating systems)\n",
                "lulc_file_path_00 = os.path.join(data_directory, lulc_filename)\n",
                "\n",
                "print('lulc_file_path', lulc_file_path_00)\n",
                "\n",
                "# Also check if the file exists\n",
                "print(\"Does the file exist?\", os.path.exists(lulc_file_path_00))\n",
                "\n",
                "# Open dataset\n",
                "lulc_dataset00 = gdal.Open(lulc_file_path_00)\n",
                "print(lulc_dataset00)\n",
                "\n",
                "lulc_dataset_band00 = lulc_dataset00.GetRasterBand(1)"
            ]
        },
        {
            "cell_type": "markdown",
            "metadata": {},
            "source": [
                "### Part b.\n",
                "\n",
                "Using the results of part a, read the whole array into memory as a numpy array (the default option when using the ReadAsArray() funciton), and plot it using the matplotlib imshow command. Add a nice title to the plot describing what it is."
            ]
        },
        {
            "cell_type": "code",
            "execution_count": null,
            "metadata": {},
            "outputs": [],
            "source": [
                "#1B Answer\n",
                "\n",
                "array_00 = lulc_dataset_band00.ReadAsArray()\n",
                "shape_00 = array_00.shape\n",
                "\n",
                "import matplotlib.pyplot as plt\n",
                "\n",
                "# The second (and often better) plotting method is to use plt to create a figure and one ore more axes.\n",
                "# This is potentially confusing but is powerful. the Axes object we created (ax) is the plottable area (and there could be lots of axes)\n",
                "# The figure contains all the axes and is responsible for organizing stuff.\n",
                "\n",
                "fig = plt.figure(figsize=(4, 3))\n",
                "fig.set_dpi(300)\n",
                "\n",
                "ax = fig.add_subplot()\n",
                "\n",
                "# Set the title of this ax object\n",
                "ax.set_title('Land-use, land-cover in 2000')\n",
                "\n",
                "# Using the ax we created, we call the imshow function on our array from earlier. This create a new \"im\" object\n",
                "im = ax.imshow(array_00)\n",
                "\n",
                "# To fix the outlier problem from before, we use the im object to set its limits.\n",
                "im.set_clim(0, 200)\n",
                "\n",
                "# Set the cbar to spectral\n",
                "im.set_cmap('Spectral')\n",
                "\n",
                "# Get the cmap\n",
                "cmap = im.get_cmap()\n",
                "cmap.set_over('white', alpha=1.0)\n",
                "\n",
                "# Get rid of the numbers on the axes\n",
                "ax.set_xticks([])\n",
                "ax.set_yticks([])\n",
                "ax.set_xticklabels([])\n",
                "ax.set_yticklabels([])\n",
                "\n",
                "# Increase the dpi\n",
                "fig.set_dpi(300)\n",
                "\n",
                "\n",
                "# Add the colorbar to the figure. It will generate its values from the im object.\n",
                "fig.colorbar(im, orientation='horizontal', shrink=0.5)\n",
                "\n",
                "plt.show()"
            ]
        },
        {
            "cell_type": "markdown",
            "metadata": {},
            "source": [
                "### Part c.\n",
                "\n",
                "Using the legend you find at https://maps.elie.ucl.ac.be/CCI/viewer/download/ESACCI-LC-QuickUserGuide-LC-Maps_v2-0-7.pdf reclassify the LULC into a simplified map where 1 = cropland (including any mosaic types that are partially cropland) and 0 = anything else. Plot this using imshow."
            ]
        },
        {
            "cell_type": "code",
            "execution_count": null,
            "metadata": {},
            "outputs": [],
            "source": [
                "# 1C Answer\n",
                "\n",
                "# I cannot open the website\n",
                "\n",
                "# Reclassify the land cover array\n",
                "# Based on the legend, set 1 for cropland and 0 for anything else\n",
                "cropland_array_00 = np.where(\n",
                "    (array_00 == 10) |  # Cropland\n",
                "    (array_00 == 11) |  # Mosaic Cropland\n",
                "    (array_00 == 14) |  # Mosaic Vegetation/Cropland\n",
                "    (array_00 == 30) |  # Rainfed Cropland\n",
                "    (array_00 == 40),   # Irrigated Cropland\n",
                "    1,  # Set 1 for cropland\n",
                "    0   # Set 0 for anything else\n",
                ")\n",
                "\n",
                "# Plot the reclassified array using matplotlib\n",
                "plt.imshow(cropland_array_00, cmap='viridis')\n",
                "plt.title('Reclassified Cropland Map - Rwanda 2000')\n",
                "plt.colorbar(label='Cropland (1) / Other (0)')\n",
                "plt.show()"
            ]
        },
        {
            "cell_type": "markdown",
            "metadata": {},
            "source": [
                "### Part d.\n",
                "\n",
                "Repeat the process for the 2010 LULC map. Using this array with the one from part c, create a new array that records where there was cropland expansion (i.e., there is cropland in 2010 but not in 2000) and where there was cropland abandonment (cropland in 2000 but not in 2010). Save this classification in a single new array. Plot this last array. Optionally, add a legend indicating which values in the array denote expansion and abandonment using some variant of `ax.legend()'. "
            ]
        },
        {
            "cell_type": "code",
            "execution_count": null,
            "metadata": {},
            "outputs": [],
            "source": [
                "# 2D Answer\n",
                "\n",
                "lulc_filename = 'rwanda_lulc_2010.tif'\n",
                "\n",
                "# the ../ notation means go up one level relative to your current working directory. This gets us outside of the course\n",
                "# repository and into our Data directory\n",
                "data_directory = '../data' \n",
                "\n",
                "# Join them together (this will work across operating systems)\n",
                "lulc_file_path_10 = os.path.join(data_directory, lulc_filename)\n",
                "\n",
                "print('lulc_file_path', lulc_file_path_10)\n",
                "\n",
                "# Also check if the file exists\n",
                "print(\"Does the file exist?\", os.path.exists(lulc_file_path_10))\n",
                "\n",
                "# Open dataset\n",
                "lulc_dataset10 = gdal.Open(lulc_file_path_10)\n",
                "print(lulc_dataset10)\n",
                "\n",
                "lulc_dataset_band10 = lulc_dataset00.GetRasterBand(1)"
            ]
        },
        {
            "cell_type": "code",
            "execution_count": null,
            "metadata": {},
            "outputs": [],
            "source": [
                "array_10 = lulc_dataset_band10.ReadAsArray()\n",
                "shape_10 = array_10.shape\n",
                "\n",
                "import matplotlib.pyplot as plt\n",
                "\n",
                "# The second (and often better) plotting method is to use plt to create a figure and one ore more axes.\n",
                "# This is potentially confusing but is powerful. the Axes object we created (ax) is the plottable area (and there could be lots of axes)\n",
                "# The figure contains all the axes and is responsible for organizing stuff.\n",
                "\n",
                "fig = plt.figure(figsize=(4, 3))\n",
                "fig.set_dpi(300)\n",
                "\n",
                "ax = fig.add_subplot()\n",
                "\n",
                "# Set the title of this ax object\n",
                "ax.set_title('Land-use, land-cover in 2010')\n",
                "\n",
                "# Using the ax we created, we call the imshow function on our array from earlier. This create a new \"im\" object\n",
                "im = ax.imshow(array_10)\n",
                "\n",
                "# To fix the outlier problem from before, we use the im object to set its limits.\n",
                "im.set_clim(0, 200)\n",
                "\n",
                "# Set the cbar to spectral\n",
                "im.set_cmap('Spectral')\n",
                "\n",
                "# Get the cmap\n",
                "cmap = im.get_cmap()\n",
                "cmap.set_over('white', alpha=1.0)\n",
                "\n",
                "# Get rid of the numbers on the axes\n",
                "ax.set_xticks([])\n",
                "ax.set_yticks([])\n",
                "ax.set_xticklabels([])\n",
                "ax.set_yticklabels([])\n",
                "\n",
                "# Increase the dpi\n",
                "fig.set_dpi(300)\n",
                "\n",
                "\n",
                "# Add the colorbar to the figure. It will generate its values from the im object.\n",
                "fig.colorbar(im, orientation='horizontal', shrink=0.5)\n",
                "\n",
                "plt.show()"
            ]
        },
        {
            "cell_type": "code",
            "execution_count": null,
            "metadata": {},
            "outputs": [],
            "source": [
                "# Reclassify the land cover array\n",
                "# Based on the legend, set 1 for cropland and 0 for anything else\n",
                "cropland_array_10 = np.where(\n",
                "    (array_10 == 10) |  # Cropland\n",
                "    (array_10 == 11) |  # Mosaic Cropland\n",
                "    (array_10 == 14) |  # Mosaic Vegetation/Cropland\n",
                "    (array_10 == 30) |  # Rainfed Cropland\n",
                "    (array_10 == 40),   # Irrigated Cropland\n",
                "    1,  # Set 1 for cropland\n",
                "    0   # Set 0 for anything else\n",
                ")\n",
                "\n",
                "# Plot the reclassified array using matplotlib\n",
                "plt.imshow(cropland_array_10, cmap='viridis')\n",
                "plt.title('Reclassified Cropland Map - Rwanda 2010')\n",
                "plt.colorbar(label='Cropland (1) / Other (0)')\n",
                "plt.show()"
            ]
        },
        {
            "cell_type": "code",
            "execution_count": null,
            "metadata": {},
            "outputs": [],
            "source": [
                "# Calculate cropland abandonment\n",
                "cropland_abandonment_0010 = np.where((cropland_array_00 == 1) & (cropland_array_10 == 0), 1, 0)\n",
                "\n",
                "# Plot the reclassified array using matplotlib\n",
                "plt.imshow(cropland_abandonment_0010, cmap='viridis')\n",
                "plt.title('Cropland abandonment 2000-2010')\n",
                "plt.colorbar(label='Cropland (1) / Other (0)')\n",
                "plt.show()\n",
                "\n",
                "print(cropland_abandonment_0010)\n",
                "\n",
                "import numpy as np\n",
                "\n",
                "# Compare matrices for equality\n",
                "are_equal = np.array_equal(array_10, array_00)\n",
                "\n",
                "# Print the result\n",
                "if are_equal:\n",
                "    print(\"The matrices are equal.\")\n",
                "else:\n",
                "    print(\"The matrices are not equal.\")\n",
                "\n"
            ]
        },
        {
            "cell_type": "markdown",
            "metadata": {},
            "source": [
                "### Part e.\n",
                "\n",
                "Repeat the all the steps in part d, but with the 2015 LULC map, calculating the difference between 2015 and 2010."
            ]
        },
        {
            "cell_type": "code",
            "execution_count": null,
            "metadata": {},
            "outputs": [],
            "source": [
                "# 2E Answer"
            ]
        },
        {
            "cell_type": "markdown",
            "metadata": {},
            "source": [
                "### Part f.\n",
                "\n",
                "Use the two cropland binary rasters you processed above and make a new raster as follows:\n",
                "\n",
                "0 = Never cropland\n",
                "1 = Cropland in 2000 only\n",
                "2 = Cropland in 2010 only\n",
                "3 = Cropland in 2015 only\n",
                "4 = Cropland in 2000 and 2010\n",
                "5 = Cropland in 2000 and 2015\n",
                "6 = Cropland in 2010 and 2015\n",
                "7 = Cropland in 2000, 2010, and 2015\n",
                "\n",
                "Plot this raster using imshow. Add a legend indicating what each value means.\n",
                "\n",
                "A tip for you: when you are combining multiple logical statements in numpy, each individual logical statement must be surrounded by parentheses. Additionally, you have to use the bitwise logical operators & and | instead of the normal logical operators and and or (numpy requires this for specificity).\n",
                "\n",
                "For example, np.where((a == 1) & (b == 2)) will return the indices where a is 1 and b is 2. If you do np.where(a == 1 & b == 2) or np.where((a == 1) and (b == 2)), you will get an error."
            ]
        },
        {
            "cell_type": "code",
            "execution_count": null,
            "metadata": {},
            "outputs": [],
            "source": [
                "#2F Answer"
            ]
        },
        {
            "cell_type": "markdown",
            "metadata": {},
            "source": [
                "### Part g.\n",
                "\n",
                "Describe your results. What do you notice about the spatial patterns of cropland expansion and abandonment? What do you think might be driving these patterns? Were they clustered in any specific area? Were the changes the same between 2000-2010 and 2010-2015?\n",
                "\n",
                "## Question 2\n",
                "\n",
                "For this question, you will analyze crops using two datasets:\n",
                "\n",
                "1. FAOSTAT Production_Crops_E_All_Data_(Normalized).csv. You could download it yourself but please use the one in the Class's Data Directory.\n",
                "2. MAPSPAM (Spatial Production Allocation Mode). You can find teh download listing here: https://dataverse.harvard.edu/dataset.xhtml?persistentId=doi:10.7910/DVN/PRFF8V Download the readme and all of the files that end with .geotiff.zip. Unzip them and put them in a folder called spam in your Class's Data Directory. This is a big download, so it may take a while. Go watch a show or something. I don't know, what do people do nowadays for fun?3. \n",
                "\n",
                "Sidenote: MAPSPAM was a competitor to the EARTHSTAT data we showed in class before. However, MAPSPAM continues to be updated and is more open-source, so I am in the process of switching my whole GTAP-InVEST model to it. \n",
                "\n",
                "You will choose 5 crops that interest you, making sure to select crops that are in both MAPSPAM and FAOSTAT dataset. You will want to refer to the ReadMe_v2r0_Global.txt file, which was available at the same download site for MAPSPAM, to identify what each of the different crops mean. For each crop you choose (use a loop), calculate the global sum of production tonnage for irrigated crops, all rainfed crops combined but excluding subsistence crops, and for all crops together. Report those values via print(). \n",
                "\n",
                "Next, for the same crops, compare how the value you calculated above compares to the value in the FAOSTAT dataset. To do this, you will need to use Pandas to load the CSV and then figure out how to get just the production tonnage values for the crops you are interested in. Interpret your results for your crops. Is FAO higher/lower than MAPSPAM? Do you notice any patterns to the difference?"
            ]
        },
        {
            "cell_type": "code",
            "execution_count": null,
            "metadata": {},
            "outputs": [],
            "source": [
                "# Question 2 answer"
            ]
        }
    ],
    "metadata": [
        {
            "kernelspec": {
                "display_name": "Python 3 (ipykernel)",
                "language": "python",
                "name": "python3"
            }
        }
    ],
    "nbformat": 4,
    "nbformat_minor": 4
}
